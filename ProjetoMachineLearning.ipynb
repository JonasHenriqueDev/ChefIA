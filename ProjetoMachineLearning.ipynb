{
  "nbformat": 4,
  "nbformat_minor": 0,
  "metadata": {
    "colab": {
      "provenance": [],
      "include_colab_link": true
    },
    "kernelspec": {
      "name": "python3",
      "display_name": "Python 3"
    },
    "language_info": {
      "name": "python"
    }
  },
  "cells": [
    {
      "cell_type": "markdown",
      "metadata": {
        "id": "view-in-github",
        "colab_type": "text"
      },
      "source": [
        "<a href=\"https://colab.research.google.com/github/JonasHenriqueDev/ChefIA/blob/main/ProjetoMachineLearning.ipynb\" target=\"_parent\"><img src=\"https://colab.research.google.com/assets/colab-badge.svg\" alt=\"Open In Colab\"/></a>"
      ]
    },
    {
      "cell_type": "code",
      "execution_count": 2,
      "metadata": {
        "id": "S7Hn9YJ93OVH"
      },
      "outputs": [],
      "source": [
        "import numpy as np\n",
        "from sklearn.model_selection import train_test_split\n",
        "from sklearn.preprocessing import StandardScaler, LabelEncoder\n",
        "from sklearn.metrics import accuracy_score, confusion_matrix, classification_report\n",
        "from sklearn.ensemble import RandomForestClassifier\n",
        "import matplotlib.pyplot as plt\n",
        "from keras.models import Sequential\n",
        "from keras.callbacks import EarlyStopping\n",
        "from keras.layers import Dense\n",
        "from keras.utils import to_categorical\n",
        "from keras.optimizers import SGD\n",
        "import seaborn as sns\n",
        "import matplotlib.pyplot as plt\n",
        "import pandas as pd"
      ]
    },
    {
      "cell_type": "markdown",
      "source": [
        "## Ler o dataset"
      ],
      "metadata": {
        "id": "eTVgiwCa8NRo"
      }
    },
    {
      "cell_type": "code",
      "source": [
        "from google.colab import drive\n",
        "drive.mount('/content/drive')"
      ],
      "metadata": {
        "colab": {
          "base_uri": "https://localhost:8080/"
        },
        "id": "9fyL-tmcL3dN",
        "outputId": "3f073ffe-a76b-4dc1-e594-c07ceb7da2fa"
      },
      "execution_count": 3,
      "outputs": [
        {
          "output_type": "stream",
          "name": "stdout",
          "text": [
            "Mounted at /content/drive\n"
          ]
        }
      ]
    },
    {
      "cell_type": "code",
      "source": [
        "df = pd.read_csv('/content/drive/MyDrive/datasets/financial_risk_analysis_large.csv')\n",
        "df.iloc[50]"
      ],
      "metadata": {
        "colab": {
          "base_uri": "https://localhost:8080/",
          "height": 1000
        },
        "id": "dX5O4NIZ8Mwv",
        "outputId": "b07077e1-7873-4637-a8f4-f4067f65e2f3"
      },
      "execution_count": 4,
      "outputs": [
        {
          "output_type": "execute_result",
          "data": {
            "text/plain": [
              "CreditScore                         334\n",
              "AnnualIncome                      60716\n",
              "LoanAmount                        18764\n",
              "LoanDuration                          5\n",
              "Age                                  31\n",
              "EmploymentStatus               Employed\n",
              "MaritalStatus                  Divorced\n",
              "NumberOfDependents                    3\n",
              "EducationLevel                 Bachelor\n",
              "HomeOwnershipStatus                 Own\n",
              "MonthlyDebtPayments                 768\n",
              "CreditCardUtilizationRate      0.056235\n",
              "NumberOfOpenCreditLines               3\n",
              "NumberOfCreditInquiries               5\n",
              "DebtToIncomeRatio              0.038852\n",
              "BankruptcyHistory                     0\n",
              "LoanPurpose                   Education\n",
              "PreviousLoanDefaults                  0\n",
              "InterestRate                   0.151044\n",
              "PaymentHistory                        1\n",
              "SavingsAccountBalance              3924\n",
              "CheckingAccountBalance             1971\n",
              "InvestmentAccountBalance          16220\n",
              "RetirementAccountBalance          42611\n",
              "EmergencyFundBalance               5903\n",
              "TotalAssets                       30421\n",
              "TotalLiabilities                  28172\n",
              "NetWorth                          64320\n",
              "LengthOfCreditHistory                22\n",
              "MortgageBalance                  291469\n",
              "RentPayments                        612\n",
              "AutoLoanBalance                   10823\n",
              "PersonalLoanBalance                2893\n",
              "StudentLoanBalance                31889\n",
              "UtilityBillsPaymentHistory     0.807338\n",
              "HealthInsuranceStatus           Insured\n",
              "LifeInsuranceStatus           Uninsured\n",
              "CarInsuranceStatus              Insured\n",
              "HomeInsuranceStatus           Uninsured\n",
              "OtherInsurancePolicies                3\n",
              "EmployerType                    Private\n",
              "JobTenure                            33\n",
              "MonthlySavings                      460\n",
              "AnnualBonuses                      7615\n",
              "AnnualExpenses                    31615\n",
              "MonthlyHousingCosts                 791\n",
              "MonthlyTransportationCosts          363\n",
              "MonthlyFoodCosts                    462\n",
              "MonthlyHealthcareCosts              292\n",
              "MonthlyEntertainmentCosts           149\n",
              "LoanApproved                          0\n",
              "Name: 50, dtype: object"
            ],
            "text/html": [
              "<div>\n",
              "<style scoped>\n",
              "    .dataframe tbody tr th:only-of-type {\n",
              "        vertical-align: middle;\n",
              "    }\n",
              "\n",
              "    .dataframe tbody tr th {\n",
              "        vertical-align: top;\n",
              "    }\n",
              "\n",
              "    .dataframe thead th {\n",
              "        text-align: right;\n",
              "    }\n",
              "</style>\n",
              "<table border=\"1\" class=\"dataframe\">\n",
              "  <thead>\n",
              "    <tr style=\"text-align: right;\">\n",
              "      <th></th>\n",
              "      <th>50</th>\n",
              "    </tr>\n",
              "  </thead>\n",
              "  <tbody>\n",
              "    <tr>\n",
              "      <th>CreditScore</th>\n",
              "      <td>334</td>\n",
              "    </tr>\n",
              "    <tr>\n",
              "      <th>AnnualIncome</th>\n",
              "      <td>60716</td>\n",
              "    </tr>\n",
              "    <tr>\n",
              "      <th>LoanAmount</th>\n",
              "      <td>18764</td>\n",
              "    </tr>\n",
              "    <tr>\n",
              "      <th>LoanDuration</th>\n",
              "      <td>5</td>\n",
              "    </tr>\n",
              "    <tr>\n",
              "      <th>Age</th>\n",
              "      <td>31</td>\n",
              "    </tr>\n",
              "    <tr>\n",
              "      <th>EmploymentStatus</th>\n",
              "      <td>Employed</td>\n",
              "    </tr>\n",
              "    <tr>\n",
              "      <th>MaritalStatus</th>\n",
              "      <td>Divorced</td>\n",
              "    </tr>\n",
              "    <tr>\n",
              "      <th>NumberOfDependents</th>\n",
              "      <td>3</td>\n",
              "    </tr>\n",
              "    <tr>\n",
              "      <th>EducationLevel</th>\n",
              "      <td>Bachelor</td>\n",
              "    </tr>\n",
              "    <tr>\n",
              "      <th>HomeOwnershipStatus</th>\n",
              "      <td>Own</td>\n",
              "    </tr>\n",
              "    <tr>\n",
              "      <th>MonthlyDebtPayments</th>\n",
              "      <td>768</td>\n",
              "    </tr>\n",
              "    <tr>\n",
              "      <th>CreditCardUtilizationRate</th>\n",
              "      <td>0.056235</td>\n",
              "    </tr>\n",
              "    <tr>\n",
              "      <th>NumberOfOpenCreditLines</th>\n",
              "      <td>3</td>\n",
              "    </tr>\n",
              "    <tr>\n",
              "      <th>NumberOfCreditInquiries</th>\n",
              "      <td>5</td>\n",
              "    </tr>\n",
              "    <tr>\n",
              "      <th>DebtToIncomeRatio</th>\n",
              "      <td>0.038852</td>\n",
              "    </tr>\n",
              "    <tr>\n",
              "      <th>BankruptcyHistory</th>\n",
              "      <td>0</td>\n",
              "    </tr>\n",
              "    <tr>\n",
              "      <th>LoanPurpose</th>\n",
              "      <td>Education</td>\n",
              "    </tr>\n",
              "    <tr>\n",
              "      <th>PreviousLoanDefaults</th>\n",
              "      <td>0</td>\n",
              "    </tr>\n",
              "    <tr>\n",
              "      <th>InterestRate</th>\n",
              "      <td>0.151044</td>\n",
              "    </tr>\n",
              "    <tr>\n",
              "      <th>PaymentHistory</th>\n",
              "      <td>1</td>\n",
              "    </tr>\n",
              "    <tr>\n",
              "      <th>SavingsAccountBalance</th>\n",
              "      <td>3924</td>\n",
              "    </tr>\n",
              "    <tr>\n",
              "      <th>CheckingAccountBalance</th>\n",
              "      <td>1971</td>\n",
              "    </tr>\n",
              "    <tr>\n",
              "      <th>InvestmentAccountBalance</th>\n",
              "      <td>16220</td>\n",
              "    </tr>\n",
              "    <tr>\n",
              "      <th>RetirementAccountBalance</th>\n",
              "      <td>42611</td>\n",
              "    </tr>\n",
              "    <tr>\n",
              "      <th>EmergencyFundBalance</th>\n",
              "      <td>5903</td>\n",
              "    </tr>\n",
              "    <tr>\n",
              "      <th>TotalAssets</th>\n",
              "      <td>30421</td>\n",
              "    </tr>\n",
              "    <tr>\n",
              "      <th>TotalLiabilities</th>\n",
              "      <td>28172</td>\n",
              "    </tr>\n",
              "    <tr>\n",
              "      <th>NetWorth</th>\n",
              "      <td>64320</td>\n",
              "    </tr>\n",
              "    <tr>\n",
              "      <th>LengthOfCreditHistory</th>\n",
              "      <td>22</td>\n",
              "    </tr>\n",
              "    <tr>\n",
              "      <th>MortgageBalance</th>\n",
              "      <td>291469</td>\n",
              "    </tr>\n",
              "    <tr>\n",
              "      <th>RentPayments</th>\n",
              "      <td>612</td>\n",
              "    </tr>\n",
              "    <tr>\n",
              "      <th>AutoLoanBalance</th>\n",
              "      <td>10823</td>\n",
              "    </tr>\n",
              "    <tr>\n",
              "      <th>PersonalLoanBalance</th>\n",
              "      <td>2893</td>\n",
              "    </tr>\n",
              "    <tr>\n",
              "      <th>StudentLoanBalance</th>\n",
              "      <td>31889</td>\n",
              "    </tr>\n",
              "    <tr>\n",
              "      <th>UtilityBillsPaymentHistory</th>\n",
              "      <td>0.807338</td>\n",
              "    </tr>\n",
              "    <tr>\n",
              "      <th>HealthInsuranceStatus</th>\n",
              "      <td>Insured</td>\n",
              "    </tr>\n",
              "    <tr>\n",
              "      <th>LifeInsuranceStatus</th>\n",
              "      <td>Uninsured</td>\n",
              "    </tr>\n",
              "    <tr>\n",
              "      <th>CarInsuranceStatus</th>\n",
              "      <td>Insured</td>\n",
              "    </tr>\n",
              "    <tr>\n",
              "      <th>HomeInsuranceStatus</th>\n",
              "      <td>Uninsured</td>\n",
              "    </tr>\n",
              "    <tr>\n",
              "      <th>OtherInsurancePolicies</th>\n",
              "      <td>3</td>\n",
              "    </tr>\n",
              "    <tr>\n",
              "      <th>EmployerType</th>\n",
              "      <td>Private</td>\n",
              "    </tr>\n",
              "    <tr>\n",
              "      <th>JobTenure</th>\n",
              "      <td>33</td>\n",
              "    </tr>\n",
              "    <tr>\n",
              "      <th>MonthlySavings</th>\n",
              "      <td>460</td>\n",
              "    </tr>\n",
              "    <tr>\n",
              "      <th>AnnualBonuses</th>\n",
              "      <td>7615</td>\n",
              "    </tr>\n",
              "    <tr>\n",
              "      <th>AnnualExpenses</th>\n",
              "      <td>31615</td>\n",
              "    </tr>\n",
              "    <tr>\n",
              "      <th>MonthlyHousingCosts</th>\n",
              "      <td>791</td>\n",
              "    </tr>\n",
              "    <tr>\n",
              "      <th>MonthlyTransportationCosts</th>\n",
              "      <td>363</td>\n",
              "    </tr>\n",
              "    <tr>\n",
              "      <th>MonthlyFoodCosts</th>\n",
              "      <td>462</td>\n",
              "    </tr>\n",
              "    <tr>\n",
              "      <th>MonthlyHealthcareCosts</th>\n",
              "      <td>292</td>\n",
              "    </tr>\n",
              "    <tr>\n",
              "      <th>MonthlyEntertainmentCosts</th>\n",
              "      <td>149</td>\n",
              "    </tr>\n",
              "    <tr>\n",
              "      <th>LoanApproved</th>\n",
              "      <td>0</td>\n",
              "    </tr>\n",
              "  </tbody>\n",
              "</table>\n",
              "</div><br><label><b>dtype:</b> object</label>"
            ]
          },
          "metadata": {},
          "execution_count": 4
        }
      ]
    },
    {
      "cell_type": "code",
      "source": [
        "# Verificar dados nulos\n",
        "print(\"Dados Nulos por Coluna:\")\n",
        "print(df.isnull().sum())\n",
        "\n",
        "# Verificar se há linhas duplicadas\n",
        "num_duplicados = df.duplicated().sum()\n",
        "print(f\"Número de Linhas Duplicadas: {num_duplicados}\")\n",
        "\n",
        "# Exibir as primeiras linhas do dataset\n",
        "print(\"\\nAs primeiras linhas do dataset:\")\n",
        "print(df.head())"
      ],
      "metadata": {
        "colab": {
          "base_uri": "https://localhost:8080/"
        },
        "id": "HFtfr-quqbYV",
        "outputId": "202e0452-ea8e-47ae-97d5-6bced67e00fa"
      },
      "execution_count": 5,
      "outputs": [
        {
          "output_type": "stream",
          "name": "stdout",
          "text": [
            "Dados Nulos por Coluna:\n",
            "CreditScore                   0\n",
            "AnnualIncome                  0\n",
            "LoanAmount                    0\n",
            "LoanDuration                  0\n",
            "Age                           0\n",
            "EmploymentStatus              0\n",
            "MaritalStatus                 0\n",
            "NumberOfDependents            0\n",
            "EducationLevel                0\n",
            "HomeOwnershipStatus           0\n",
            "MonthlyDebtPayments           0\n",
            "CreditCardUtilizationRate     0\n",
            "NumberOfOpenCreditLines       0\n",
            "NumberOfCreditInquiries       0\n",
            "DebtToIncomeRatio             0\n",
            "BankruptcyHistory             0\n",
            "LoanPurpose                   0\n",
            "PreviousLoanDefaults          0\n",
            "InterestRate                  0\n",
            "PaymentHistory                0\n",
            "SavingsAccountBalance         0\n",
            "CheckingAccountBalance        0\n",
            "InvestmentAccountBalance      0\n",
            "RetirementAccountBalance      0\n",
            "EmergencyFundBalance          0\n",
            "TotalAssets                   0\n",
            "TotalLiabilities              0\n",
            "NetWorth                      0\n",
            "LengthOfCreditHistory         0\n",
            "MortgageBalance               0\n",
            "RentPayments                  0\n",
            "AutoLoanBalance               0\n",
            "PersonalLoanBalance           0\n",
            "StudentLoanBalance            0\n",
            "UtilityBillsPaymentHistory    0\n",
            "HealthInsuranceStatus         0\n",
            "LifeInsuranceStatus           0\n",
            "CarInsuranceStatus            0\n",
            "HomeInsuranceStatus           0\n",
            "OtherInsurancePolicies        0\n",
            "EmployerType                  0\n",
            "JobTenure                     0\n",
            "MonthlySavings                0\n",
            "AnnualBonuses                 0\n",
            "AnnualExpenses                0\n",
            "MonthlyHousingCosts           0\n",
            "MonthlyTransportationCosts    0\n",
            "MonthlyFoodCosts              0\n",
            "MonthlyHealthcareCosts        0\n",
            "MonthlyEntertainmentCosts     0\n",
            "LoanApproved                  0\n",
            "dtype: int64\n",
            "Número de Linhas Duplicadas: 0\n",
            "\n",
            "As primeiras linhas do dataset:\n",
            "   CreditScore  AnnualIncome  LoanAmount  LoanDuration  Age EmploymentStatus  \\\n",
            "0          402         63295       18830            13   29    Self-Employed   \n",
            "1          735         55936       23729             1   42    Self-Employed   \n",
            "2          570         62547       19660             7   54    Self-Employed   \n",
            "3          406         46129       21674            23   25    Self-Employed   \n",
            "4          371         57725       12189            26   42         Employed   \n",
            "\n",
            "  MaritalStatus  NumberOfDependents EducationLevel HomeOwnershipStatus  ...  \\\n",
            "0       Widowed                   2      Doctorate               Other  ...   \n",
            "1      Divorced                   3         Master                 Own  ...   \n",
            "2        Single                   3      Doctorate            Mortgage  ...   \n",
            "3      Divorced                   3    High School               Other  ...   \n",
            "4       Widowed                   4         Master                 Own  ...   \n",
            "\n",
            "   JobTenure  MonthlySavings  AnnualBonuses  AnnualExpenses  \\\n",
            "0         24             378           3741           40058   \n",
            "1         10             575           4115           16745   \n",
            "2         16             691           4105           23273   \n",
            "3          6             452           4559           42163   \n",
            "4          2             690           7856           30087   \n",
            "\n",
            "   MonthlyHousingCosts  MonthlyTransportationCosts MonthlyFoodCosts  \\\n",
            "0                  977                         412              399   \n",
            "1                  695                         206              898   \n",
            "2                  627                         266              392   \n",
            "3                  397                         307              250   \n",
            "4                  723                         315              114   \n",
            "\n",
            "   MonthlyHealthcareCosts  MonthlyEntertainmentCosts  LoanApproved  \n",
            "0                     136                        124             0  \n",
            "1                     252                        131             0  \n",
            "2                      73                         36             0  \n",
            "3                     378                        -32             0  \n",
            "4                      88                         68             0  \n",
            "\n",
            "[5 rows x 51 columns]\n"
          ]
        }
      ]
    },
    {
      "cell_type": "markdown",
      "source": [
        "\n",
        "\n",
        "---\n",
        "\n",
        "\n",
        "X são as variáveis independentes (ou features), usadas para treinar o modelo.\n",
        "\n",
        "*   Item da lista\n",
        "*   Item da lista\n",
        "\n",
        "\n",
        "y é a variável dependente (ou target), que iremos prever.\n",
        "\n",
        "Neste caso, y equivale a coluna **LoanApproved**, que indica se o cliente do cartão de crédito deixou de pagar a fatura no mês seguinte."
      ],
      "metadata": {
        "id": "U0LQF_bI5e3n"
      }
    },
    {
      "cell_type": "markdown",
      "source": [
        "\n",
        "\n",
        "---\n",
        "\n",
        "\n",
        "Aplicar One-Hot Encoding"
      ],
      "metadata": {
        "id": "qUiFNGy2AuR0"
      }
    },
    {
      "cell_type": "code",
      "source": [
        "# Identificar automaticamente todas as colunas categóricas (do tipo 'object')\n",
        "categorical_columns = df.select_dtypes(include=['object']).columns\n",
        "df_encoded = pd.get_dummies(df, columns=categorical_columns)"
      ],
      "metadata": {
        "id": "hKsTsMDVAwuO"
      },
      "execution_count": 6,
      "outputs": []
    },
    {
      "cell_type": "code",
      "source": [
        "X = df_encoded.drop('LoanApproved', axis=1)\n",
        "y = df_encoded['LoanApproved']"
      ],
      "metadata": {
        "id": "RJyla0IOCTn5"
      },
      "execution_count": 7,
      "outputs": []
    },
    {
      "cell_type": "markdown",
      "source": [
        "Dividir o conjunto de dados em subconjuntos de treino e teste."
      ],
      "metadata": {
        "id": "qoBGDFp1-GyH"
      }
    },
    {
      "cell_type": "code",
      "source": [
        "X_train, X_test, y_train, y_test = train_test_split(X, y, test_size=0.2, random_state=42)"
      ],
      "metadata": {
        "id": "_Ml5w5oh-Iv0"
      },
      "execution_count": 8,
      "outputs": []
    },
    {
      "cell_type": "markdown",
      "source": [
        "Nova divisão do conjunto de dados de treinamento em dois subconjuntos: um conjunto de treinamento e um conjunto de validação."
      ],
      "metadata": {
        "id": "v2T14OWI-OM5"
      }
    },
    {
      "cell_type": "code",
      "source": [
        "X_train, X_val, y_train, y_val = train_test_split(X_train, y_train, test_size=0.1, random_state=42)"
      ],
      "metadata": {
        "id": "CoxvhC9T-TMg"
      },
      "execution_count": 9,
      "outputs": []
    },
    {
      "cell_type": "markdown",
      "source": [
        "\n",
        "- X_train.shape e X_test.shape: Mostram o número de amostras e características no conjunto de treino e teste.\n",
        "- y_train.shape e y_test.shape: Mostram o número de amostras no conjunto de treino e teste, com a variável y já convertida para one-hot encoding."
      ],
      "metadata": {
        "id": "uLqD_DQc-ar3"
      }
    },
    {
      "cell_type": "code",
      "source": [
        "X_train.shape"
      ],
      "metadata": {
        "colab": {
          "base_uri": "https://localhost:8080/"
        },
        "id": "0ISpMScw-uXa",
        "outputId": "f57df2e8-5fe3-459d-cd92-fb1ffe3cce79"
      },
      "execution_count": 10,
      "outputs": [
        {
          "output_type": "execute_result",
          "data": {
            "text/plain": [
              "(720000, 73)"
            ]
          },
          "metadata": {},
          "execution_count": 10
        }
      ]
    },
    {
      "cell_type": "code",
      "source": [
        "X_test.shape"
      ],
      "metadata": {
        "colab": {
          "base_uri": "https://localhost:8080/"
        },
        "id": "l_qyZcRE-xfa",
        "outputId": "5413ed79-7358-4b81-f574-88ad89d30164"
      },
      "execution_count": 11,
      "outputs": [
        {
          "output_type": "execute_result",
          "data": {
            "text/plain": [
              "(200000, 73)"
            ]
          },
          "metadata": {},
          "execution_count": 11
        }
      ]
    },
    {
      "cell_type": "code",
      "source": [
        "y_train.shape"
      ],
      "metadata": {
        "colab": {
          "base_uri": "https://localhost:8080/"
        },
        "id": "yJ_FvamC-zZB",
        "outputId": "33bb00b6-476e-4063-be7d-5ae0432cd2df"
      },
      "execution_count": 12,
      "outputs": [
        {
          "output_type": "execute_result",
          "data": {
            "text/plain": [
              "(720000,)"
            ]
          },
          "metadata": {},
          "execution_count": 12
        }
      ]
    },
    {
      "cell_type": "code",
      "source": [
        "y_test.shape"
      ],
      "metadata": {
        "colab": {
          "base_uri": "https://localhost:8080/"
        },
        "id": "ug-a9_v8-04Y",
        "outputId": "dc3b05d5-288c-43f2-8df8-6603ff384bc4"
      },
      "execution_count": 13,
      "outputs": [
        {
          "output_type": "execute_result",
          "data": {
            "text/plain": [
              "(200000,)"
            ]
          },
          "metadata": {},
          "execution_count": 13
        }
      ]
    },
    {
      "cell_type": "markdown",
      "source": [
        "<h1>Modelo de rede neural usando Keras</h1>"
      ],
      "metadata": {
        "id": "wUs8gJL_-6da"
      }
    },
    {
      "cell_type": "code",
      "source": [
        "neurons = 10\n",
        "activation_func = 'sigmoid'\n",
        "batch = X_train.shape[0]\n",
        "epochs = 100\n",
        "learning_rate = 0.1\n",
        "\n",
        "\n",
        "model = Sequential()\n",
        "model.add(Dense(neurons, input_dim=X.shape[1], activation=activation_func))\n",
        "model.add(Dense(2, activation='sigmoid'))\n",
        "sgd = SGD(learning_rate = learning_rate)\n",
        "criterio = EarlyStopping(monitor='val_loss', patience=5, mode='min')\n",
        "#model.compile(loss='categorical_crossentropy', optimizer=sgd, metrics=['accuracy'])\n",
        "model.compile(loss='mse', optimizer=sgd, metrics=['accuracy'])\n",
        "\n",
        "#history = model.fit(X_train, y_train, validation_data=(X_val, y_val), epochs=epochs, batch_size=X.shape[0])"
      ],
      "metadata": {
        "colab": {
          "base_uri": "https://localhost:8080/"
        },
        "id": "m8tiuGvK-8Ml",
        "outputId": "d0fbdfa9-643e-4cd9-fb09-9a98d23c3220"
      },
      "execution_count": 14,
      "outputs": [
        {
          "output_type": "stream",
          "name": "stderr",
          "text": [
            "/usr/local/lib/python3.10/dist-packages/keras/src/layers/core/dense.py:87: UserWarning: Do not pass an `input_shape`/`input_dim` argument to a layer. When using Sequential models, prefer using an `Input(shape)` object as the first layer in the model instead.\n",
            "  super().__init__(activity_regularizer=activity_regularizer, **kwargs)\n"
          ]
        }
      ]
    },
    {
      "cell_type": "markdown",
      "source": [
        "Comando para treinar o modelo"
      ],
      "metadata": {
        "id": "1FG2_wrI_GWK"
      }
    },
    {
      "cell_type": "code",
      "source": [
        "history = model.fit(X_train, y_train, validation_data=(X_val, y_val), epochs=epochs, batch_size=batch, callbacks=[criterio])\n"
      ],
      "metadata": {
        "colab": {
          "base_uri": "https://localhost:8080/"
        },
        "id": "twshyb7o_KuQ",
        "outputId": "7193ed83-71cb-4101-8e92-b9f959294278"
      },
      "execution_count": 15,
      "outputs": [
        {
          "output_type": "stream",
          "name": "stdout",
          "text": [
            "Epoch 1/100\n",
            "\u001b[1m1/1\u001b[0m \u001b[32m━━━━━━━━━━━━━━━━━━━━\u001b[0m\u001b[37m\u001b[0m \u001b[1m1s\u001b[0m 1s/step - accuracy: 0.6268 - loss: 0.3418 - val_accuracy: 0.6262 - val_loss: 0.3140\n",
            "Epoch 2/100\n",
            "\u001b[1m1/1\u001b[0m \u001b[32m━━━━━━━━━━━━━━━━━━━━\u001b[0m\u001b[37m\u001b[0m \u001b[1m1s\u001b[0m 928ms/step - accuracy: 0.6268 - loss: 0.3137 - val_accuracy: 0.6262 - val_loss: 0.2977\n",
            "Epoch 3/100\n",
            "\u001b[1m1/1\u001b[0m \u001b[32m━━━━━━━━━━━━━━━━━━━━\u001b[0m\u001b[37m\u001b[0m \u001b[1m1s\u001b[0m 647ms/step - accuracy: 0.6268 - loss: 0.2975 - val_accuracy: 0.6262 - val_loss: 0.2767\n",
            "Epoch 4/100\n",
            "\u001b[1m1/1\u001b[0m \u001b[32m━━━━━━━━━━━━━━━━━━━━\u001b[0m\u001b[37m\u001b[0m \u001b[1m1s\u001b[0m 505ms/step - accuracy: 0.6268 - loss: 0.2766 - val_accuracy: 0.6262 - val_loss: 0.2701\n",
            "Epoch 5/100\n",
            "\u001b[1m1/1\u001b[0m \u001b[32m━━━━━━━━━━━━━━━━━━━━\u001b[0m\u001b[37m\u001b[0m \u001b[1m1s\u001b[0m 636ms/step - accuracy: 0.6268 - loss: 0.2700 - val_accuracy: 0.6262 - val_loss: 0.2664\n",
            "Epoch 6/100\n",
            "\u001b[1m1/1\u001b[0m \u001b[32m━━━━━━━━━━━━━━━━━━━━\u001b[0m\u001b[37m\u001b[0m \u001b[1m1s\u001b[0m 500ms/step - accuracy: 0.6268 - loss: 0.2663 - val_accuracy: 0.6262 - val_loss: 0.2631\n",
            "Epoch 7/100\n",
            "\u001b[1m1/1\u001b[0m \u001b[32m━━━━━━━━━━━━━━━━━━━━\u001b[0m\u001b[37m\u001b[0m \u001b[1m0s\u001b[0m 474ms/step - accuracy: 0.6268 - loss: 0.2630 - val_accuracy: 0.6262 - val_loss: 0.2604\n",
            "Epoch 8/100\n",
            "\u001b[1m1/1\u001b[0m \u001b[32m━━━━━━━━━━━━━━━━━━━━\u001b[0m\u001b[37m\u001b[0m \u001b[1m0s\u001b[0m 497ms/step - accuracy: 0.6268 - loss: 0.2603 - val_accuracy: 0.6262 - val_loss: 0.2583\n",
            "Epoch 9/100\n",
            "\u001b[1m1/1\u001b[0m \u001b[32m━━━━━━━━━━━━━━━━━━━━\u001b[0m\u001b[37m\u001b[0m \u001b[1m0s\u001b[0m 492ms/step - accuracy: 0.6268 - loss: 0.2582 - val_accuracy: 0.6262 - val_loss: 0.2562\n",
            "Epoch 10/100\n",
            "\u001b[1m1/1\u001b[0m \u001b[32m━━━━━━━━━━━━━━━━━━━━\u001b[0m\u001b[37m\u001b[0m \u001b[1m0s\u001b[0m 481ms/step - accuracy: 0.6268 - loss: 0.2561 - val_accuracy: 0.6262 - val_loss: 0.2543\n",
            "Epoch 11/100\n",
            "\u001b[1m1/1\u001b[0m \u001b[32m━━━━━━━━━━━━━━━━━━━━\u001b[0m\u001b[37m\u001b[0m \u001b[1m1s\u001b[0m 623ms/step - accuracy: 0.6268 - loss: 0.2542 - val_accuracy: 0.6262 - val_loss: 0.2526\n",
            "Epoch 12/100\n",
            "\u001b[1m1/1\u001b[0m \u001b[32m━━━━━━━━━━━━━━━━━━━━\u001b[0m\u001b[37m\u001b[0m \u001b[1m1s\u001b[0m 818ms/step - accuracy: 0.6268 - loss: 0.2525 - val_accuracy: 0.6262 - val_loss: 0.2512\n",
            "Epoch 13/100\n",
            "\u001b[1m1/1\u001b[0m \u001b[32m━━━━━━━━━━━━━━━━━━━━\u001b[0m\u001b[37m\u001b[0m \u001b[1m1s\u001b[0m 797ms/step - accuracy: 0.6268 - loss: 0.2511 - val_accuracy: 0.6257 - val_loss: 0.2497\n",
            "Epoch 14/100\n",
            "\u001b[1m1/1\u001b[0m \u001b[32m━━━━━━━━━━━━━━━━━━━━\u001b[0m\u001b[37m\u001b[0m \u001b[1m1s\u001b[0m 1s/step - accuracy: 0.6264 - loss: 0.2496 - val_accuracy: 0.6256 - val_loss: 0.2485\n",
            "Epoch 15/100\n",
            "\u001b[1m1/1\u001b[0m \u001b[32m━━━━━━━━━━━━━━━━━━━━\u001b[0m\u001b[37m\u001b[0m \u001b[1m1s\u001b[0m 723ms/step - accuracy: 0.6264 - loss: 0.2484 - val_accuracy: 0.6256 - val_loss: 0.2473\n",
            "Epoch 16/100\n",
            "\u001b[1m1/1\u001b[0m \u001b[32m━━━━━━━━━━━━━━━━━━━━\u001b[0m\u001b[37m\u001b[0m \u001b[1m1s\u001b[0m 853ms/step - accuracy: 0.6264 - loss: 0.2471 - val_accuracy: 0.6256 - val_loss: 0.2462\n",
            "Epoch 17/100\n",
            "\u001b[1m1/1\u001b[0m \u001b[32m━━━━━━━━━━━━━━━━━━━━\u001b[0m\u001b[37m\u001b[0m \u001b[1m1s\u001b[0m 579ms/step - accuracy: 0.6263 - loss: 0.2461 - val_accuracy: 0.6256 - val_loss: 0.2452\n",
            "Epoch 18/100\n",
            "\u001b[1m1/1\u001b[0m \u001b[32m━━━━━━━━━━━━━━━━━━━━\u001b[0m\u001b[37m\u001b[0m \u001b[1m1s\u001b[0m 511ms/step - accuracy: 0.6263 - loss: 0.2451 - val_accuracy: 0.6257 - val_loss: 0.2444\n",
            "Epoch 19/100\n",
            "\u001b[1m1/1\u001b[0m \u001b[32m━━━━━━━━━━━━━━━━━━━━\u001b[0m\u001b[37m\u001b[0m \u001b[1m0s\u001b[0m 488ms/step - accuracy: 0.6263 - loss: 0.2442 - val_accuracy: 0.6256 - val_loss: 0.2436\n",
            "Epoch 20/100\n",
            "\u001b[1m1/1\u001b[0m \u001b[32m━━━━━━━━━━━━━━━━━━━━\u001b[0m\u001b[37m\u001b[0m \u001b[1m0s\u001b[0m 469ms/step - accuracy: 0.6263 - loss: 0.2435 - val_accuracy: 0.6257 - val_loss: 0.2430\n",
            "Epoch 21/100\n",
            "\u001b[1m1/1\u001b[0m \u001b[32m━━━━━━━━━━━━━━━━━━━━\u001b[0m\u001b[37m\u001b[0m \u001b[1m1s\u001b[0m 633ms/step - accuracy: 0.6263 - loss: 0.2428 - val_accuracy: 0.6257 - val_loss: 0.2423\n",
            "Epoch 22/100\n",
            "\u001b[1m1/1\u001b[0m \u001b[32m━━━━━━━━━━━━━━━━━━━━\u001b[0m\u001b[37m\u001b[0m \u001b[1m0s\u001b[0m 464ms/step - accuracy: 0.6262 - loss: 0.2421 - val_accuracy: 0.6256 - val_loss: 0.2416\n",
            "Epoch 23/100\n",
            "\u001b[1m1/1\u001b[0m \u001b[32m━━━━━━━━━━━━━━━━━━━━\u001b[0m\u001b[37m\u001b[0m \u001b[1m0s\u001b[0m 486ms/step - accuracy: 0.6262 - loss: 0.2415 - val_accuracy: 0.6256 - val_loss: 0.2411\n",
            "Epoch 24/100\n",
            "\u001b[1m1/1\u001b[0m \u001b[32m━━━━━━━━━━━━━━━━━━━━\u001b[0m\u001b[37m\u001b[0m \u001b[1m0s\u001b[0m 475ms/step - accuracy: 0.6262 - loss: 0.2409 - val_accuracy: 0.6256 - val_loss: 0.2406\n",
            "Epoch 25/100\n",
            "\u001b[1m1/1\u001b[0m \u001b[32m━━━━━━━━━━━━━━━━━━━━\u001b[0m\u001b[37m\u001b[0m \u001b[1m1s\u001b[0m 647ms/step - accuracy: 0.6261 - loss: 0.2404 - val_accuracy: 0.6256 - val_loss: 0.2401\n",
            "Epoch 26/100\n",
            "\u001b[1m1/1\u001b[0m \u001b[32m━━━━━━━━━━━━━━━━━━━━\u001b[0m\u001b[37m\u001b[0m \u001b[1m0s\u001b[0m 457ms/step - accuracy: 0.6261 - loss: 0.2399 - val_accuracy: 0.6254 - val_loss: 0.2397\n",
            "Epoch 27/100\n",
            "\u001b[1m1/1\u001b[0m \u001b[32m━━━━━━━━━━━━━━━━━━━━\u001b[0m\u001b[37m\u001b[0m \u001b[1m1s\u001b[0m 635ms/step - accuracy: 0.6259 - loss: 0.2395 - val_accuracy: 0.6254 - val_loss: 0.2393\n",
            "Epoch 28/100\n",
            "\u001b[1m1/1\u001b[0m \u001b[32m━━━━━━━━━━━━━━━━━━━━\u001b[0m\u001b[37m\u001b[0m \u001b[1m0s\u001b[0m 487ms/step - accuracy: 0.6259 - loss: 0.2391 - val_accuracy: 0.6253 - val_loss: 0.2389\n",
            "Epoch 29/100\n",
            "\u001b[1m1/1\u001b[0m \u001b[32m━━━━━━━━━━━━━━━━━━━━\u001b[0m\u001b[37m\u001b[0m \u001b[1m0s\u001b[0m 498ms/step - accuracy: 0.6259 - loss: 0.2388 - val_accuracy: 0.6253 - val_loss: 0.2386\n",
            "Epoch 30/100\n",
            "\u001b[1m1/1\u001b[0m \u001b[32m━━━━━━━━━━━━━━━━━━━━\u001b[0m\u001b[37m\u001b[0m \u001b[1m0s\u001b[0m 462ms/step - accuracy: 0.6259 - loss: 0.2384 - val_accuracy: 0.6253 - val_loss: 0.2383\n",
            "Epoch 31/100\n",
            "\u001b[1m1/1\u001b[0m \u001b[32m━━━━━━━━━━━━━━━━━━━━\u001b[0m\u001b[37m\u001b[0m \u001b[1m1s\u001b[0m 659ms/step - accuracy: 0.6259 - loss: 0.2381 - val_accuracy: 0.6253 - val_loss: 0.2380\n",
            "Epoch 32/100\n",
            "\u001b[1m1/1\u001b[0m \u001b[32m━━━━━━━━━━━━━━━━━━━━\u001b[0m\u001b[37m\u001b[0m \u001b[1m1s\u001b[0m 588ms/step - accuracy: 0.6259 - loss: 0.2379 - val_accuracy: 0.6252 - val_loss: 0.2377\n",
            "Epoch 33/100\n",
            "\u001b[1m1/1\u001b[0m \u001b[32m━━━━━━━━━━━━━━━━━━━━\u001b[0m\u001b[37m\u001b[0m \u001b[1m1s\u001b[0m 520ms/step - accuracy: 0.6259 - loss: 0.2376 - val_accuracy: 0.6142 - val_loss: 0.2375\n",
            "Epoch 34/100\n",
            "\u001b[1m1/1\u001b[0m \u001b[32m━━━━━━━━━━━━━━━━━━━━\u001b[0m\u001b[37m\u001b[0m \u001b[1m0s\u001b[0m 471ms/step - accuracy: 0.6159 - loss: 0.2374 - val_accuracy: 0.6138 - val_loss: 0.2373\n",
            "Epoch 35/100\n",
            "\u001b[1m1/1\u001b[0m \u001b[32m━━━━━━━━━━━━━━━━━━━━\u001b[0m\u001b[37m\u001b[0m \u001b[1m1s\u001b[0m 665ms/step - accuracy: 0.6155 - loss: 0.2372 - val_accuracy: 0.6133 - val_loss: 0.2371\n",
            "Epoch 36/100\n",
            "\u001b[1m1/1\u001b[0m \u001b[32m━━━━━━━━━━━━━━━━━━━━\u001b[0m\u001b[37m\u001b[0m \u001b[1m1s\u001b[0m 877ms/step - accuracy: 0.6149 - loss: 0.2370 - val_accuracy: 0.6140 - val_loss: 0.2369\n",
            "Epoch 37/100\n",
            "\u001b[1m1/1\u001b[0m \u001b[32m━━━━━━━━━━━━━━━━━━━━\u001b[0m\u001b[37m\u001b[0m \u001b[1m1s\u001b[0m 1s/step - accuracy: 0.6158 - loss: 0.2368 - val_accuracy: 0.6132 - val_loss: 0.2368\n",
            "Epoch 38/100\n",
            "\u001b[1m1/1\u001b[0m \u001b[32m━━━━━━━━━━━━━━━━━━━━\u001b[0m\u001b[37m\u001b[0m \u001b[1m1s\u001b[0m 1s/step - accuracy: 0.6148 - loss: 0.2366 - val_accuracy: 0.6134 - val_loss: 0.2366\n",
            "Epoch 39/100\n",
            "\u001b[1m1/1\u001b[0m \u001b[32m━━━━━━━━━━━━━━━━━━━━\u001b[0m\u001b[37m\u001b[0m \u001b[1m1s\u001b[0m 940ms/step - accuracy: 0.6152 - loss: 0.2365 - val_accuracy: 0.6131 - val_loss: 0.2365\n",
            "Epoch 40/100\n",
            "\u001b[1m1/1\u001b[0m \u001b[32m━━━━━━━━━━━━━━━━━━━━\u001b[0m\u001b[37m\u001b[0m \u001b[1m1s\u001b[0m 629ms/step - accuracy: 0.6147 - loss: 0.2363 - val_accuracy: 0.6125 - val_loss: 0.2363\n",
            "Epoch 41/100\n",
            "\u001b[1m1/1\u001b[0m \u001b[32m━━━━━━━━━━━━━━━━━━━━\u001b[0m\u001b[37m\u001b[0m \u001b[1m1s\u001b[0m 502ms/step - accuracy: 0.6141 - loss: 0.2362 - val_accuracy: 0.6130 - val_loss: 0.2362\n",
            "Epoch 42/100\n",
            "\u001b[1m1/1\u001b[0m \u001b[32m━━━━━━━━━━━━━━━━━━━━\u001b[0m\u001b[37m\u001b[0m \u001b[1m0s\u001b[0m 478ms/step - accuracy: 0.6145 - loss: 0.2360 - val_accuracy: 0.6129 - val_loss: 0.2361\n",
            "Epoch 43/100\n",
            "\u001b[1m1/1\u001b[0m \u001b[32m━━━━━━━━━━━━━━━━━━━━\u001b[0m\u001b[37m\u001b[0m \u001b[1m1s\u001b[0m 633ms/step - accuracy: 0.6145 - loss: 0.2359 - val_accuracy: 0.6122 - val_loss: 0.2360\n",
            "Epoch 44/100\n",
            "\u001b[1m1/1\u001b[0m \u001b[32m━━━━━━━━━━━━━━━━━━━━\u001b[0m\u001b[37m\u001b[0m \u001b[1m1s\u001b[0m 615ms/step - accuracy: 0.6137 - loss: 0.2358 - val_accuracy: 0.6127 - val_loss: 0.2359\n",
            "Epoch 45/100\n",
            "\u001b[1m1/1\u001b[0m \u001b[32m━━━━━━━━━━━━━━━━━━━━\u001b[0m\u001b[37m\u001b[0m \u001b[1m0s\u001b[0m 482ms/step - accuracy: 0.6143 - loss: 0.2357 - val_accuracy: 0.6126 - val_loss: 0.2358\n",
            "Epoch 46/100\n",
            "\u001b[1m1/1\u001b[0m \u001b[32m━━━━━━━━━━━━━━━━━━━━\u001b[0m\u001b[37m\u001b[0m \u001b[1m0s\u001b[0m 486ms/step - accuracy: 0.6143 - loss: 0.2356 - val_accuracy: 0.6129 - val_loss: 0.2357\n",
            "Epoch 47/100\n",
            "\u001b[1m1/1\u001b[0m \u001b[32m━━━━━━━━━━━━━━━━━━━━\u001b[0m\u001b[37m\u001b[0m \u001b[1m1s\u001b[0m 615ms/step - accuracy: 0.6145 - loss: 0.2355 - val_accuracy: 0.6129 - val_loss: 0.2356\n",
            "Epoch 48/100\n",
            "\u001b[1m1/1\u001b[0m \u001b[32m━━━━━━━━━━━━━━━━━━━━\u001b[0m\u001b[37m\u001b[0m \u001b[1m0s\u001b[0m 474ms/step - accuracy: 0.6144 - loss: 0.2355 - val_accuracy: 0.6126 - val_loss: 0.2355\n",
            "Epoch 49/100\n",
            "\u001b[1m1/1\u001b[0m \u001b[32m━━━━━━━━━━━━━━━━━━━━\u001b[0m\u001b[37m\u001b[0m \u001b[1m1s\u001b[0m 516ms/step - accuracy: 0.6141 - loss: 0.2354 - val_accuracy: 0.6128 - val_loss: 0.2354\n",
            "Epoch 50/100\n",
            "\u001b[1m1/1\u001b[0m \u001b[32m━━━━━━━━━━━━━━━━━━━━\u001b[0m\u001b[37m\u001b[0m \u001b[1m1s\u001b[0m 592ms/step - accuracy: 0.6143 - loss: 0.2353 - val_accuracy: 0.6123 - val_loss: 0.2354\n",
            "Epoch 51/100\n",
            "\u001b[1m1/1\u001b[0m \u001b[32m━━━━━━━━━━━━━━━━━━━━\u001b[0m\u001b[37m\u001b[0m \u001b[1m1s\u001b[0m 626ms/step - accuracy: 0.6139 - loss: 0.2352 - val_accuracy: 0.6126 - val_loss: 0.2353\n",
            "Epoch 52/100\n",
            "\u001b[1m1/1\u001b[0m \u001b[32m━━━━━━━━━━━━━━━━━━━━\u001b[0m\u001b[37m\u001b[0m \u001b[1m1s\u001b[0m 600ms/step - accuracy: 0.6141 - loss: 0.2352 - val_accuracy: 0.6126 - val_loss: 0.2352\n",
            "Epoch 53/100\n",
            "\u001b[1m1/1\u001b[0m \u001b[32m━━━━━━━━━━━━━━━━━━━━\u001b[0m\u001b[37m\u001b[0m \u001b[1m0s\u001b[0m 471ms/step - accuracy: 0.6141 - loss: 0.2351 - val_accuracy: 0.6124 - val_loss: 0.2352\n",
            "Epoch 54/100\n",
            "\u001b[1m1/1\u001b[0m \u001b[32m━━━━━━━━━━━━━━━━━━━━\u001b[0m\u001b[37m\u001b[0m \u001b[1m0s\u001b[0m 493ms/step - accuracy: 0.6139 - loss: 0.2350 - val_accuracy: 0.6129 - val_loss: 0.2351\n",
            "Epoch 55/100\n",
            "\u001b[1m1/1\u001b[0m \u001b[32m━━━━━━━━━━━━━━━━━━━━\u001b[0m\u001b[37m\u001b[0m \u001b[1m0s\u001b[0m 488ms/step - accuracy: 0.6144 - loss: 0.2350 - val_accuracy: 0.6125 - val_loss: 0.2351\n",
            "Epoch 56/100\n",
            "\u001b[1m1/1\u001b[0m \u001b[32m━━━━━━━━━━━━━━━━━━━━\u001b[0m\u001b[37m\u001b[0m \u001b[1m1s\u001b[0m 606ms/step - accuracy: 0.6140 - loss: 0.2350 - val_accuracy: 0.6128 - val_loss: 0.2351\n",
            "Epoch 57/100\n",
            "\u001b[1m1/1\u001b[0m \u001b[32m━━━━━━━━━━━━━━━━━━━━\u001b[0m\u001b[37m\u001b[0m \u001b[1m1s\u001b[0m 758ms/step - accuracy: 0.6145 - loss: 0.2349 - val_accuracy: 0.6130 - val_loss: 0.2350\n",
            "Epoch 58/100\n",
            "\u001b[1m1/1\u001b[0m \u001b[32m━━━━━━━━━━━━━━━━━━━━\u001b[0m\u001b[37m\u001b[0m \u001b[1m1s\u001b[0m 1s/step - accuracy: 0.6146 - loss: 0.2349 - val_accuracy: 0.6132 - val_loss: 0.2350\n",
            "Epoch 59/100\n",
            "\u001b[1m1/1\u001b[0m \u001b[32m━━━━━━━━━━━━━━━━━━━━\u001b[0m\u001b[37m\u001b[0m \u001b[1m1s\u001b[0m 1s/step - accuracy: 0.6148 - loss: 0.2348 - val_accuracy: 0.6130 - val_loss: 0.2349\n",
            "Epoch 60/100\n",
            "\u001b[1m1/1\u001b[0m \u001b[32m━━━━━━━━━━━━━━━━━━━━\u001b[0m\u001b[37m\u001b[0m \u001b[1m1s\u001b[0m 576ms/step - accuracy: 0.6146 - loss: 0.2348 - val_accuracy: 0.6131 - val_loss: 0.2349\n",
            "Epoch 61/100\n",
            "\u001b[1m1/1\u001b[0m \u001b[32m━━━━━━━━━━━━━━━━━━━━\u001b[0m\u001b[37m\u001b[0m \u001b[1m1s\u001b[0m 960ms/step - accuracy: 0.6147 - loss: 0.2348 - val_accuracy: 0.6131 - val_loss: 0.2349\n",
            "Epoch 62/100\n",
            "\u001b[1m1/1\u001b[0m \u001b[32m━━━━━━━━━━━━━━━━━━━━\u001b[0m\u001b[37m\u001b[0m \u001b[1m1s\u001b[0m 525ms/step - accuracy: 0.6148 - loss: 0.2347 - val_accuracy: 0.6128 - val_loss: 0.2349\n",
            "Epoch 63/100\n",
            "\u001b[1m1/1\u001b[0m \u001b[32m━━━━━━━━━━━━━━━━━━━━\u001b[0m\u001b[37m\u001b[0m \u001b[1m1s\u001b[0m 624ms/step - accuracy: 0.6146 - loss: 0.2347 - val_accuracy: 0.6129 - val_loss: 0.2348\n",
            "Epoch 64/100\n",
            "\u001b[1m1/1\u001b[0m \u001b[32m━━━━━━━━━━━━━━━━━━━━\u001b[0m\u001b[37m\u001b[0m \u001b[1m1s\u001b[0m 598ms/step - accuracy: 0.6146 - loss: 0.2347 - val_accuracy: 0.6125 - val_loss: 0.2348\n",
            "Epoch 65/100\n",
            "\u001b[1m1/1\u001b[0m \u001b[32m━━━━━━━━━━━━━━━━━━━━\u001b[0m\u001b[37m\u001b[0m \u001b[1m1s\u001b[0m 606ms/step - accuracy: 0.6141 - loss: 0.2347 - val_accuracy: 0.6125 - val_loss: 0.2348\n",
            "Epoch 66/100\n",
            "\u001b[1m1/1\u001b[0m \u001b[32m━━━━━━━━━━━━━━━━━━━━\u001b[0m\u001b[37m\u001b[0m \u001b[1m1s\u001b[0m 503ms/step - accuracy: 0.6141 - loss: 0.2347 - val_accuracy: 0.6130 - val_loss: 0.2348\n",
            "Epoch 67/100\n",
            "\u001b[1m1/1\u001b[0m \u001b[32m━━━━━━━━━━━━━━━━━━━━\u001b[0m\u001b[37m\u001b[0m \u001b[1m1s\u001b[0m 598ms/step - accuracy: 0.6146 - loss: 0.2346 - val_accuracy: 0.6141 - val_loss: 0.2347\n",
            "Epoch 68/100\n",
            "\u001b[1m1/1\u001b[0m \u001b[32m━━━━━━━━━━━━━━━━━━━━\u001b[0m\u001b[37m\u001b[0m \u001b[1m1s\u001b[0m 619ms/step - accuracy: 0.6154 - loss: 0.2346 - val_accuracy: 0.6143 - val_loss: 0.2347\n",
            "Epoch 69/100\n",
            "\u001b[1m1/1\u001b[0m \u001b[32m━━━━━━━━━━━━━━━━━━━━\u001b[0m\u001b[37m\u001b[0m \u001b[1m0s\u001b[0m 465ms/step - accuracy: 0.6155 - loss: 0.2346 - val_accuracy: 0.6142 - val_loss: 0.2347\n",
            "Epoch 70/100\n",
            "\u001b[1m1/1\u001b[0m \u001b[32m━━━━━━━━━━━━━━━━━━━━\u001b[0m\u001b[37m\u001b[0m \u001b[1m1s\u001b[0m 604ms/step - accuracy: 0.6155 - loss: 0.2346 - val_accuracy: 0.6152 - val_loss: 0.2347\n",
            "Epoch 71/100\n",
            "\u001b[1m1/1\u001b[0m \u001b[32m━━━━━━━━━━━━━━━━━━━━\u001b[0m\u001b[37m\u001b[0m \u001b[1m1s\u001b[0m 635ms/step - accuracy: 0.6161 - loss: 0.2345 - val_accuracy: 0.6145 - val_loss: 0.2347\n",
            "Epoch 72/100\n",
            "\u001b[1m1/1\u001b[0m \u001b[32m━━━━━━━━━━━━━━━━━━━━\u001b[0m\u001b[37m\u001b[0m \u001b[1m1s\u001b[0m 626ms/step - accuracy: 0.6157 - loss: 0.2345 - val_accuracy: 0.6154 - val_loss: 0.2347\n",
            "Epoch 73/100\n",
            "\u001b[1m1/1\u001b[0m \u001b[32m━━━━━━━━━━━━━━━━━━━━\u001b[0m\u001b[37m\u001b[0m \u001b[1m1s\u001b[0m 505ms/step - accuracy: 0.6162 - loss: 0.2345 - val_accuracy: 0.6155 - val_loss: 0.2347\n",
            "Epoch 74/100\n",
            "\u001b[1m1/1\u001b[0m \u001b[32m━━━━━━━━━━━━━━━━━━━━\u001b[0m\u001b[37m\u001b[0m \u001b[1m0s\u001b[0m 461ms/step - accuracy: 0.6163 - loss: 0.2345 - val_accuracy: 0.6151 - val_loss: 0.2346\n",
            "Epoch 75/100\n",
            "\u001b[1m1/1\u001b[0m \u001b[32m━━━━━━━━━━━━━━━━━━━━\u001b[0m\u001b[37m\u001b[0m \u001b[1m0s\u001b[0m 486ms/step - accuracy: 0.6160 - loss: 0.2345 - val_accuracy: 0.6153 - val_loss: 0.2346\n",
            "Epoch 76/100\n",
            "\u001b[1m1/1\u001b[0m \u001b[32m━━━━━━━━━━━━━━━━━━━━\u001b[0m\u001b[37m\u001b[0m \u001b[1m0s\u001b[0m 484ms/step - accuracy: 0.6161 - loss: 0.2345 - val_accuracy: 0.6153 - val_loss: 0.2346\n",
            "Epoch 77/100\n",
            "\u001b[1m1/1\u001b[0m \u001b[32m━━━━━━━━━━━━━━━━━━━━\u001b[0m\u001b[37m\u001b[0m \u001b[1m1s\u001b[0m 571ms/step - accuracy: 0.6161 - loss: 0.2345 - val_accuracy: 0.6152 - val_loss: 0.2346\n",
            "Epoch 78/100\n",
            "\u001b[1m1/1\u001b[0m \u001b[32m━━━━━━━━━━━━━━━━━━━━\u001b[0m\u001b[37m\u001b[0m \u001b[1m1s\u001b[0m 819ms/step - accuracy: 0.6160 - loss: 0.2345 - val_accuracy: 0.6155 - val_loss: 0.2346\n",
            "Epoch 79/100\n",
            "\u001b[1m1/1\u001b[0m \u001b[32m━━━━━━━━━━━━━━━━━━━━\u001b[0m\u001b[37m\u001b[0m \u001b[1m1s\u001b[0m 1s/step - accuracy: 0.6161 - loss: 0.2345 - val_accuracy: 0.6154 - val_loss: 0.2346\n",
            "Epoch 80/100\n",
            "\u001b[1m1/1\u001b[0m \u001b[32m━━━━━━━━━━━━━━━━━━━━\u001b[0m\u001b[37m\u001b[0m \u001b[1m1s\u001b[0m 808ms/step - accuracy: 0.6161 - loss: 0.2344 - val_accuracy: 0.6157 - val_loss: 0.2346\n",
            "Epoch 81/100\n",
            "\u001b[1m1/1\u001b[0m \u001b[32m━━━━━━━━━━━━━━━━━━━━\u001b[0m\u001b[37m\u001b[0m \u001b[1m1s\u001b[0m 962ms/step - accuracy: 0.6165 - loss: 0.2344 - val_accuracy: 0.6158 - val_loss: 0.2346\n",
            "Epoch 82/100\n",
            "\u001b[1m1/1\u001b[0m \u001b[32m━━━━━━━━━━━━━━━━━━━━\u001b[0m\u001b[37m\u001b[0m \u001b[1m0s\u001b[0m 482ms/step - accuracy: 0.6165 - loss: 0.2344 - val_accuracy: 0.6155 - val_loss: 0.2346\n",
            "Epoch 83/100\n",
            "\u001b[1m1/1\u001b[0m \u001b[32m━━━━━━━━━━━━━━━━━━━━\u001b[0m\u001b[37m\u001b[0m \u001b[1m1s\u001b[0m 621ms/step - accuracy: 0.6163 - loss: 0.2344 - val_accuracy: 0.6158 - val_loss: 0.2346\n",
            "Epoch 84/100\n",
            "\u001b[1m1/1\u001b[0m \u001b[32m━━━━━━━━━━━━━━━━━━━━\u001b[0m\u001b[37m\u001b[0m \u001b[1m0s\u001b[0m 487ms/step - accuracy: 0.6165 - loss: 0.2344 - val_accuracy: 0.6157 - val_loss: 0.2346\n",
            "Epoch 85/100\n",
            "\u001b[1m1/1\u001b[0m \u001b[32m━━━━━━━━━━━━━━━━━━━━\u001b[0m\u001b[37m\u001b[0m \u001b[1m1s\u001b[0m 640ms/step - accuracy: 0.6164 - loss: 0.2344 - val_accuracy: 0.6161 - val_loss: 0.2346\n",
            "Epoch 86/100\n",
            "\u001b[1m1/1\u001b[0m \u001b[32m━━━━━━━━━━━━━━━━━━━━\u001b[0m\u001b[37m\u001b[0m \u001b[1m0s\u001b[0m 482ms/step - accuracy: 0.6168 - loss: 0.2344 - val_accuracy: 0.6158 - val_loss: 0.2346\n",
            "Epoch 87/100\n",
            "\u001b[1m1/1\u001b[0m \u001b[32m━━━━━━━━━━━━━━━━━━━━\u001b[0m\u001b[37m\u001b[0m \u001b[1m1s\u001b[0m 508ms/step - accuracy: 0.6165 - loss: 0.2344 - val_accuracy: 0.6158 - val_loss: 0.2346\n",
            "Epoch 88/100\n",
            "\u001b[1m1/1\u001b[0m \u001b[32m━━━━━━━━━━━━━━━━━━━━\u001b[0m\u001b[37m\u001b[0m \u001b[1m1s\u001b[0m 504ms/step - accuracy: 0.6166 - loss: 0.2344 - val_accuracy: 0.6161 - val_loss: 0.2346\n",
            "Epoch 89/100\n",
            "\u001b[1m1/1\u001b[0m \u001b[32m━━━━━━━━━━━━━━━━━━━━\u001b[0m\u001b[37m\u001b[0m \u001b[1m0s\u001b[0m 495ms/step - accuracy: 0.6167 - loss: 0.2344 - val_accuracy: 0.6162 - val_loss: 0.2345\n",
            "Epoch 90/100\n",
            "\u001b[1m1/1\u001b[0m \u001b[32m━━━━━━━━━━━━━━━━━━━━\u001b[0m\u001b[37m\u001b[0m \u001b[1m1s\u001b[0m 609ms/step - accuracy: 0.6173 - loss: 0.2344 - val_accuracy: 0.6167 - val_loss: 0.2345\n",
            "Epoch 91/100\n",
            "\u001b[1m1/1\u001b[0m \u001b[32m━━━━━━━━━━━━━━━━━━━━\u001b[0m\u001b[37m\u001b[0m \u001b[1m1s\u001b[0m 625ms/step - accuracy: 0.6178 - loss: 0.2344 - val_accuracy: 0.6166 - val_loss: 0.2345\n",
            "Epoch 92/100\n",
            "\u001b[1m1/1\u001b[0m \u001b[32m━━━━━━━━━━━━━━━━━━━━\u001b[0m\u001b[37m\u001b[0m \u001b[1m1s\u001b[0m 609ms/step - accuracy: 0.6177 - loss: 0.2344 - val_accuracy: 0.6163 - val_loss: 0.2345\n",
            "Epoch 93/100\n",
            "\u001b[1m1/1\u001b[0m \u001b[32m━━━━━━━━━━━━━━━━━━━━\u001b[0m\u001b[37m\u001b[0m \u001b[1m0s\u001b[0m 478ms/step - accuracy: 0.6174 - loss: 0.2344 - val_accuracy: 0.6167 - val_loss: 0.2345\n",
            "Epoch 94/100\n",
            "\u001b[1m1/1\u001b[0m \u001b[32m━━━━━━━━━━━━━━━━━━━━\u001b[0m\u001b[37m\u001b[0m \u001b[1m1s\u001b[0m 604ms/step - accuracy: 0.6177 - loss: 0.2344 - val_accuracy: 0.6169 - val_loss: 0.2345\n",
            "Epoch 95/100\n",
            "\u001b[1m1/1\u001b[0m \u001b[32m━━━━━━━━━━━━━━━━━━━━\u001b[0m\u001b[37m\u001b[0m \u001b[1m1s\u001b[0m 625ms/step - accuracy: 0.6179 - loss: 0.2344 - val_accuracy: 0.6172 - val_loss: 0.2345\n",
            "Epoch 96/100\n",
            "\u001b[1m1/1\u001b[0m \u001b[32m━━━━━━━━━━━━━━━━━━━━\u001b[0m\u001b[37m\u001b[0m \u001b[1m1s\u001b[0m 648ms/step - accuracy: 0.6183 - loss: 0.2343 - val_accuracy: 0.6174 - val_loss: 0.2345\n",
            "Epoch 97/100\n",
            "\u001b[1m1/1\u001b[0m \u001b[32m━━━━━━━━━━━━━━━━━━━━\u001b[0m\u001b[37m\u001b[0m \u001b[1m1s\u001b[0m 596ms/step - accuracy: 0.6184 - loss: 0.2343 - val_accuracy: 0.6173 - val_loss: 0.2345\n",
            "Epoch 98/100\n",
            "\u001b[1m1/1\u001b[0m \u001b[32m━━━━━━━━━━━━━━━━━━━━\u001b[0m\u001b[37m\u001b[0m \u001b[1m1s\u001b[0m 788ms/step - accuracy: 0.6184 - loss: 0.2343 - val_accuracy: 0.6173 - val_loss: 0.2345\n",
            "Epoch 99/100\n",
            "\u001b[1m1/1\u001b[0m \u001b[32m━━━━━━━━━━━━━━━━━━━━\u001b[0m\u001b[37m\u001b[0m \u001b[1m1s\u001b[0m 1s/step - accuracy: 0.6184 - loss: 0.2343 - val_accuracy: 0.6176 - val_loss: 0.2345\n",
            "Epoch 100/100\n",
            "\u001b[1m1/1\u001b[0m \u001b[32m━━━━━━━━━━━━━━━━━━━━\u001b[0m\u001b[37m\u001b[0m \u001b[1m1s\u001b[0m 760ms/step - accuracy: 0.6186 - loss: 0.2343 - val_accuracy: 0.6177 - val_loss: 0.2345\n"
          ]
        }
      ]
    },
    {
      "cell_type": "markdown",
      "source": [
        "Visualizando a perda do modelo durante o treinamento e validação."
      ],
      "metadata": {
        "id": "LJHm-ZPID9S9"
      }
    },
    {
      "cell_type": "code",
      "source": [
        "loss_train = history.history['loss']\n",
        "val_loss = history.history['val_loss']\n",
        "\n",
        "plt.plot(loss_train, label='Treinamento')\n",
        "plt.plot(val_loss, label='Validação')\n",
        "plt.title('Curva de Convergência - Treinamento vs. Validação')\n",
        "plt.xlabel('Épocas')\n",
        "plt.ylabel('Perda')\n",
        "plt.legend()\n",
        "plt.show()"
      ],
      "metadata": {
        "colab": {
          "base_uri": "https://localhost:8080/",
          "height": 474
        },
        "id": "cVwPvqkJD907",
        "outputId": "13491c72-5784-4415-c5e5-9f2e62661dfa"
      },
      "execution_count": 16,
      "outputs": [
        {
          "output_type": "display_data",
          "data": {
            "text/plain": [
              "<Figure size 640x480 with 1 Axes>"
            ],
            "image/png": "[encoded data removed]"
          },
          "metadata": {}
        }
      ]
    },
    {
      "cell_type": "markdown",
      "source": [
        "Curvas de perda do treinamento e validação estão quase iguais e diminuindo juntas ao longo das épocas, indicando que o modelo está aprendendo bem e não está sofrendo de overfitting."
      ],
      "metadata": {
        "id": "nOLjr-2TEDsU"
      }
    },
    {
      "cell_type": "code",
      "source": [
        "model"
      ],
      "metadata": {
        "colab": {
          "base_uri": "https://localhost:8080/"
        },
        "id": "o_VldnJoEEZq",
        "outputId": "29c7df58-f53d-44fb-8dfe-f8e92c102bb5"
      },
      "execution_count": 17,
      "outputs": [
        {
          "output_type": "execute_result",
          "data": {
            "text/plain": [
              "<Sequential name=sequential, built=True>"
            ]
          },
          "metadata": {},
          "execution_count": 17
        }
      ]
    },
    {
      "cell_type": "markdown",
      "source": [
        "Prevendo os rótulos de saída (as classes ou probabilidades) para os conjuntos de teste e treinamento, respectivamente."
      ],
      "metadata": {
        "id": "55lfrHfnEIoe"
      }
    },
    {
      "cell_type": "code",
      "source": [
        "y_pred = model.predict(X_test)\n",
        "y_pred_train = model.predict(X_train)"
      ],
      "metadata": {
        "colab": {
          "base_uri": "https://localhost:8080/"
        },
        "id": "Isibq9SjEReY",
        "outputId": "f3c03176-f59b-42f4-fb5d-ec6ffbddcc21"
      },
      "execution_count": 18,
      "outputs": [
        {
          "output_type": "stream",
          "name": "stdout",
          "text": [
            "\u001b[1m6250/6250\u001b[0m \u001b[32m━━━━━━━━━━━━━━━━━━━━\u001b[0m\u001b[37m\u001b[0m \u001b[1m8s\u001b[0m 1ms/step\n",
            "\u001b[1m22500/22500\u001b[0m \u001b[32m━━━━━━━━━━━━━━━━━━━━\u001b[0m\u001b[37m\u001b[0m \u001b[1m28s\u001b[0m 1ms/step\n"
          ]
        }
      ]
    },
    {
      "cell_type": "markdown",
      "source": [
        "#Relatório de classificação"
      ],
      "metadata": {
        "id": "N2LWiIh7GHiW"
      }
    },
    {
      "cell_type": "code",
      "source": [
        "y_pred_class = np.argmax(y_pred, axis=1)"
      ],
      "metadata": {
        "id": "A65oFJ3HNbLX"
      },
      "execution_count": 19,
      "outputs": []
    },
    {
      "cell_type": "code",
      "source": [
        "acuracia = accuracy_score(y_pred_class, y_test)\n",
        "print(\"Acurácia no conjunto de teste:\", acuracia)"
      ],
      "metadata": {
        "id": "7Cw5vRDCFebw",
        "colab": {
          "base_uri": "https://localhost:8080/"
        },
        "outputId": "5d5fd3a5-a4bf-4510-bd25-e1eb65fdbebb"
      },
      "execution_count": 20,
      "outputs": [
        {
          "output_type": "stream",
          "name": "stdout",
          "text": [
            "Acurácia no conjunto de teste: 0.618425\n"
          ]
        }
      ]
    },
    {
      "cell_type": "code",
      "source": [
        "print(\"Relatório de classificação:\")\n",
        "print(classification_report(y_test, y_pred_class))"
      ],
      "metadata": {
        "id": "tt-_la9DGNfm",
        "colab": {
          "base_uri": "https://localhost:8080/"
        },
        "outputId": "f2b3f2b0-c324-40ed-e696-43fa4066c753"
      },
      "execution_count": 21,
      "outputs": [
        {
          "output_type": "stream",
          "name": "stdout",
          "text": [
            "Relatório de classificação:\n",
            "              precision    recall  f1-score   support\n",
            "\n",
            "           0       0.63      0.97      0.76    125418\n",
            "           1       0.37      0.03      0.06     74582\n",
            "\n",
            "    accuracy                           0.62    200000\n",
            "   macro avg       0.50      0.50      0.41    200000\n",
            "weighted avg       0.53      0.62      0.50    200000\n",
            "\n"
          ]
        }
      ]
    },
    {
      "cell_type": "markdown",
      "source": [
        "<h1>Random Forest </h1>"
      ],
      "metadata": {
        "id": "hOEa0HtsHRqO"
      }
    },
    {
      "cell_type": "code",
      "source": [
        "#codigo\n"
      ],
      "metadata": {
        "id": "KLFjfVdt3cKN"
      },
      "execution_count": null,
      "outputs": []
    }
  ]
}